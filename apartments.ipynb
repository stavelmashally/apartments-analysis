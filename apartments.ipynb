{
 "cells": [
  {
   "cell_type": "markdown",
   "metadata": {},
   "source": [
    "# Apartments Analysis\n",
    "\n",
    "In this project, we will analyze Apartments for rent in the city of Tel Aviv.        \n",
    "Our main goals are to try to understand in depth the area of apartment rental in Tel Aviv.   "
   ]
  },
  {
   "cell_type": "markdown",
   "metadata": {},
   "source": [
    "## Introduction and Background\n",
    "Finding an apartment for rent is not a simple task. And it is usually necessary to see a large number of apartments \n",
    "and be prepared for certain compromises before we can make a decision and enter any apartment.  \n",
    "For that, we performed in-depth analysis to understand the field in depth.   \n",
    "Our motivation in choosing a project topic in this area comes from the fact that we find ourselves  \n",
    "spending a lot of time, each day, for finding apartments for rent. "
   ]
  },
  {
   "cell_type": "markdown",
   "metadata": {},
   "source": [
    "## Data acquisition\n",
    "For the purposes of this project, we will use data collected from ads which have been published on the site Yad2.   \n",
    "All the information has been collected using a Web crawler.    \n",
    "\n",
    "\n",
    "### Work through the notebook\n",
    "First we will import all the relevant dependencies we need."
   ]
  },
  {
   "cell_type": "code",
   "execution_count": null,
   "metadata": {},
   "outputs": [],
   "source": [
    "# Data Manipulation\n",
    "import pandas as pd\n",
    "import numpy as np\n",
    "\n",
    "# Visualizations\n",
    "import matplotlib.pyplot as plt\n",
    "%matplotlib inline\n",
    "import seaborn as sns\n",
    "sns.set(style=\"darkgrid\")"
   ]
  },
  {
   "cell_type": "markdown",
   "metadata": {},
   "source": [
    "#### Loading in the data  \n",
    "Our data is stored and organized in a csv file.  \n",
    "We'll start reading in the data into pandas dataframe and see some information.  "
   ]
  },
  {
   "cell_type": "code",
   "execution_count": null,
   "metadata": {},
   "outputs": [],
   "source": [
    "# Read in the data\n",
    "apartments = pd.read_csv('apartments.csv')\n",
    "\n",
    "print(f'Apartments dataset has {apartments.shape[0]} entries with {apartments.shape[1]} variables.')"
   ]
  },
  {
   "cell_type": "code",
   "execution_count": null,
   "metadata": {},
   "outputs": [],
   "source": [
    "apartments.head()"
   ]
  },
  {
   "cell_type": "markdown",
   "metadata": {},
   "source": [
    "### Feature Observation"
   ]
  },
  {
   "cell_type": "code",
   "execution_count": null,
   "metadata": {},
   "outputs": [],
   "source": [
    "# Data features\n",
    "apartments[0:0]"
   ]
  },
  {
   "cell_type": "markdown",
   "metadata": {},
   "source": [
    "- **Address**: the actual apartment address\n",
    "- **Area**: we divided the city into areas north-south-east-west\n",
    "- **Area-text**: the neighborhood where the apartment is located\n",
    "- **Price**: price of rent per month in ILS\n",
    "- **Rooms**: number of rooms in the apartment\n",
    "- **Floor**: number of floor of the apartment in the building\n",
    "- **Square-meter**: the size of the apartment space in square meters\n",
    "- **Elevator/air-condition/refurbished/furniture**: additional parameters that can be exist or not\n",
    "- **lon, lat**: Longitude and Latitude coordinates"
   ]
  },
  {
   "cell_type": "markdown",
   "metadata": {},
   "source": [
    "## Data cleaning"
   ]
  },
  {
   "cell_type": "code",
   "execution_count": null,
   "metadata": {},
   "outputs": [],
   "source": [
    "apartments.info()"
   ]
  },
  {
   "cell_type": "markdown",
   "metadata": {},
   "source": [
    "### Handling missing data and duplicates\n",
    "Some of the values are missing, they anotated as 'לא צוין'  \n",
    "We will also delete the duplicated data"
   ]
  },
  {
   "cell_type": "code",
   "execution_count": null,
   "metadata": {},
   "outputs": [],
   "source": [
    "# Remove missing values\n",
    "apartments = apartments[apartments['Price'].str.strip() != 'לא צוין מחיר']\n",
    "apartments = apartments[apartments['Rooms'].str.strip() != 'לא צוין']\n",
    "apartments = apartments[apartments['Square-meter'].str.strip() != 'לא צוין']\n",
    "\n",
    "# Drop duplicated data\n",
    "apartments.drop_duplicates(inplace=True)"
   ]
  },
  {
   "cell_type": "markdown",
   "metadata": {},
   "source": [
    "### Handling Data types\n",
    "Lets look at the variables type"
   ]
  },
  {
   "cell_type": "code",
   "execution_count": null,
   "metadata": {},
   "outputs": [],
   "source": [
    "apartments.dtypes"
   ]
  },
  {
   "cell_type": "markdown",
   "metadata": {},
   "source": [
    "We can see that some of the variables are not in the correct type, such as **Price**, **Rooms**, **Floor** so we will need to convert them."
   ]
  },
  {
   "cell_type": "code",
   "execution_count": null,
   "metadata": {},
   "outputs": [],
   "source": [
    "# Fix values\n",
    "apartments['Price'] = apartments['Price'].apply(lambda s: s.replace(',', '').replace('$', '').replace('₪', '')).astype('float')\n",
    "apartments.loc[apartments['Floor'] == 'קרקע', 'Floor'] = 0\n",
    "\n",
    "# Convert data types into a valid type\n",
    "apartments['Price'] = apartments['Price'].astype('float')\n",
    "apartments['Rooms'] = apartments['Rooms'].astype('float')\n",
    "apartments['Floor'] = apartments['Floor'].astype('int')\n",
    "apartments['Square-meter'] = apartments['Square-meter'].astype('int')\n",
    "\n",
    "apartments.dtypes"
   ]
  },
  {
   "cell_type": "markdown",
   "metadata": {},
   "source": [
    "### Remove Outliers\n"
   ]
  },
  {
   "cell_type": "code",
   "execution_count": null,
   "metadata": {},
   "outputs": [],
   "source": [
    "sns.boxplot(apartments['Price'])"
   ]
  },
  {
   "cell_type": "markdown",
   "metadata": {},
   "source": [
    "Looks like we have some outliers"
   ]
  },
  {
   "cell_type": "code",
   "execution_count": null,
   "metadata": {},
   "outputs": [],
   "source": [
    "# Remove outliers\n",
    "apartments = apartments[apartments['Price'] < 30000]"
   ]
  },
  {
   "cell_type": "markdown",
   "metadata": {},
   "source": [
    "Some of the data contains parking and storage for rent, we will filter them by price and square-meter"
   ]
  },
  {
   "cell_type": "code",
   "execution_count": null,
   "metadata": {},
   "outputs": [],
   "source": [
    "# Filtering parkings/storages\n",
    "apartments = apartments[apartments['Price'] > 1000]\n",
    "apartments = apartments[apartments['Square-meter'] > 15]\n",
    "\n",
    "print(f'Now the dataset has {apartments.shape[0]} entries.')\n",
    "\n",
    "sns.boxplot(apartments['Price'])"
   ]
  },
  {
   "cell_type": "markdown",
   "metadata": {},
   "source": [
    "## Let's explore some of the features\n",
    "\n",
    "#### Elevator, Air-condition, Refurbished, Furniture\n",
    "How many apartments do they have and some do not?"
   ]
  },
  {
   "cell_type": "code",
   "execution_count": null,
   "metadata": {},
   "outputs": [],
   "source": [
    "# Plot on the same figure\n",
    "fig, (ax1, ax2, ax3, ax4) = plt.subplots(ncols=4, figsize=(15, 4))\n",
    "\n",
    "sns.countplot(x='Air-condition', data=apartments, ax=ax1)\n",
    "sns.countplot(x='Elevator', data=apartments, ax=ax2)\n",
    "sns.countplot(x='Refurbished', data=apartments, ax=ax3)\n",
    "sns.countplot(x='Furniture', data=apartments, ax=ax4)\n",
    "\n",
    "# Fix layout spaces\n",
    "plt.tight_layout()"
   ]
  },
  {
   "cell_type": "markdown",
   "metadata": {},
   "source": [
    "Almost all of the apartments have air condition, still .. this is Tel Aviv"
   ]
  },
  {
   "cell_type": "markdown",
   "metadata": {},
   "source": [
    "### Rooms\n",
    "The distribution of number of rooms in the apartments"
   ]
  },
  {
   "cell_type": "code",
   "execution_count": null,
   "metadata": {},
   "outputs": [],
   "source": [
    "sns.distplot(apartments['Rooms'])"
   ]
  },
  {
   "cell_type": "markdown",
   "metadata": {},
   "source": [
    "We can see that the average number of rooms is 3"
   ]
  },
  {
   "cell_type": "markdown",
   "metadata": {},
   "source": [
    "### Price\n",
    "The prices are in ILS (israeli shekels)"
   ]
  },
  {
   "cell_type": "code",
   "execution_count": null,
   "metadata": {},
   "outputs": [],
   "source": [
    "sns.distplot(apartments['Price'], color='r')\n",
    "\n",
    "# Price stats\n",
    "apartments['Price'].describe().round()"
   ]
  },
  {
   "cell_type": "markdown",
   "metadata": {},
   "source": []
  },
  {
   "cell_type": "markdown",
   "metadata": {},
   "source": [
    "### The relationship between the variables"
   ]
  },
  {
   "cell_type": "code",
   "execution_count": null,
   "metadata": {},
   "outputs": [],
   "source": [
    "sns.pairplot(apartments[['Price', 'Square-meter', 'Rooms', 'Floor', 'Area']], hue='Area')"
   ]
  },
  {
   "cell_type": "markdown",
   "metadata": {},
   "source": [
    "## Exploring Interesting Data\n",
    "Let's see some intresting insights about the data"
   ]
  },
  {
   "cell_type": "markdown",
   "metadata": {},
   "source": [
    "### what is the avereage price per area?"
   ]
  },
  {
   "cell_type": "code",
   "execution_count": null,
   "metadata": {},
   "outputs": [],
   "source": [
    "avg_per_area = apartments.groupby('Area')['Price'].mean()\n",
    "avg_per_area.plot.bar(rot=40)\n",
    "avg_per_area.round()"
   ]
  },
  {
   "cell_type": "markdown",
   "metadata": {},
   "source": [
    "We can see that the **center-lev-tlv** and the **north** are the most expensive areas.   \n",
    "it is legitimate because Tel Aviv is a young city and most of the entertainment places are in these areas"
   ]
  },
  {
   "cell_type": "markdown",
   "metadata": {},
   "source": [
    "### The relationship between number of rooms and square-meter"
   ]
  },
  {
   "cell_type": "code",
   "execution_count": null,
   "metadata": {},
   "outputs": [],
   "source": [
    "rounded_rooms = apartments[apartments.Rooms.apply(lambda x: x % 1 == 0)]\n",
    "sns.scatterplot(x='Square-meter', y='Rooms', hue='Rooms', data=rounded_rooms, palette=\"Set2\")\n",
    "plt.legend(loc='upper right')"
   ]
  },
  {
   "cell_type": "markdown",
   "metadata": {},
   "source": [
    "### What is the price for each square meter in each area?"
   ]
  },
  {
   "cell_type": "code",
   "execution_count": null,
   "metadata": {},
   "outputs": [],
   "source": [
    "apartments['newArea'] = apartments['Area']\n",
    "apartments.loc[apartments['Area'].str.contains('center'), 'newArea'] = 'center'\n",
    "apartments['price_to_meter'] = apartments['Price'] / apartments['Square-meter']\n",
    "grouped = apartments.groupby('newArea')['price_to_meter'].mean()\n",
    "grouped"
   ]
  },
  {
   "cell_type": "markdown",
   "metadata": {},
   "source": [
    "### The relationship between **Price**  and **Square-meter**"
   ]
  },
  {
   "cell_type": "code",
   "execution_count": null,
   "metadata": {},
   "outputs": [],
   "source": [
    "sns.scatterplot(x='Square-meter', y='Price', data=apartments, hue='Price')"
   ]
  },
  {
   "cell_type": "markdown",
   "metadata": {},
   "source": [
    "## Geographical View\n",
    "### how these prices look geographically? "
   ]
  },
  {
   "cell_type": "code",
   "execution_count": null,
   "metadata": {},
   "outputs": [],
   "source": [
    "import folium"
   ]
  },
  {
   "cell_type": "code",
   "execution_count": null,
   "metadata": {},
   "outputs": [],
   "source": [
    "# Initialialize map\n",
    "m = folium.Map(location=[32.073333, 34.7999900], zoom_start=14)\n",
    "\n",
    "avg_per_meter = apartments.groupby('Area-text')['price_to_meter'].mean().to_dict()\n",
    "\n",
    "# Set colors per apartment\n",
    "apartments['color'] = apartments.apply(lambda apt: '#FF1700' if (avg_per_meter[apt['Area-text']] < apt['price_to_meter']) else '#2CD31D', axis=1)\n",
    "\n",
    "for index, row in apartments.iterrows():\n",
    "    if not np.isnan(row.lat):\n",
    "        marker = folium.CircleMarker(\n",
    "            location=[row.lat, row.lon],\n",
    "            radius=row['Square-meter'] % 10,\n",
    "            color=row['color'],\n",
    "            fill=True,\n",
    "            fill_color=row['color'],\n",
    "            fill_opacity='0.3',\n",
    "            popup=row.Address)\n",
    "        m.add_child(marker)\n",
    "m"
   ]
  },
  {
   "cell_type": "markdown",
   "metadata": {},
   "source": [
    "**Circle size**: according to the apartment size   \n",
    "**Red**: high price to meter ratio in neighberhood  \n",
    "**Green**: low price to meter ratio in neighberhood"
   ]
  },
  {
   "cell_type": "markdown",
   "metadata": {},
   "source": [
    "## Machine Learning"
   ]
  },
  {
   "cell_type": "code",
   "execution_count": null,
   "metadata": {},
   "outputs": [],
   "source": [
    "# apartments_north = apartments[apartments['Area']=='north'].groupby('Area-text')['Price'].mean().plot.bar(rot=40)\n",
    "# apartments_north\n",
    "\n",
    "# apartments_south = apartments[apartments['Area']=='south'].groupby('Area-text')['Price'].mean().plot.bar(rot=40)\n",
    "# apartments_south\n",
    "\n",
    "apartments_center = apartments[apartments['newArea']=='center'].groupby('Area-text')['Price'].mean().plot.bar(rot=40)\n",
    "apartments_center\n",
    "\n"
   ]
  },
  {
   "cell_type": "code",
   "execution_count": null,
   "metadata": {},
   "outputs": [],
   "source": [
    "# from sklearn import linear_model\n",
    "# from scipy.stats import logistic\n",
    "# from scipy.special import expit\n",
    "# from scipy.special import logit\n",
    "# from sklearn.neighbors import KNeighborsClassifier\n",
    "# from matplotlib.colors import ListedColormap\n",
    "# from sklearn import neighbors, datasets"
   ]
  },
  {
   "cell_type": "code",
   "execution_count": null,
   "metadata": {},
   "outputs": [],
   "source": [
    "# plt.scatter(x=apartments.Rooms,y=apartments.Price,c='r',marker='s',label='Room')\n",
    "# plt.legend(numpoints=1,loc=4)\n",
    "# plt.show()\n",
    "# plt.scatter(x=apartments['Square-meter'],y=apartments.Price,c='g',marker='o',label='Square meter')\n",
    "# plt.legend(numpoints=1,loc=4)\n",
    "# plt.show()\n",
    "# plt.scatter(x=apartments.Floor,y=apartments.Price,c='k',marker='*',label='Floor')\n",
    "# plt.legend(numpoints=1,loc=4)\n",
    "# plt.show()"
   ]
  },
  {
   "cell_type": "code",
   "execution_count": null,
   "metadata": {},
   "outputs": [],
   "source": [
    "# def measure(col):\n",
    "#     md_r = linear_model.LinearRegression()\n",
    "#     x = apartments[col].values.reshape(apartments[col].shape[0], 1)\n",
    "#     y = apartments['Price'].values.reshape(apartments['Price'].shape[0], 1)\n",
    "#     md_r.fit(X=x, y=y)\n",
    "#     print(\"Slope:\",md_r.coef_)\n",
    "#     print(\"Intercept:\",md_r.intercept_)\n",
    "#     print(\"R2:\",  md_r.score(x,y))  \n",
    "\n",
    "# measure('Square-meter')"
   ]
  },
  {
   "cell_type": "code",
   "execution_count": null,
   "metadata": {},
   "outputs": [],
   "source": [
    "# measure('Rooms')"
   ]
  },
  {
   "cell_type": "code",
   "execution_count": null,
   "metadata": {},
   "outputs": [],
   "source": [
    "# measure('Floor')"
   ]
  },
  {
   "cell_type": "code",
   "execution_count": null,
   "metadata": {},
   "outputs": [],
   "source": [
    "# md_r = linear_model.LinearRegression()\n",
    "# apartments.Refurbished = apartments.Refurbished.astype(int)\n",
    "# x = apartments[['Floor','Rooms','Square-meter']].values.reshape(apartments[['Floor','Rooms','Square-meter']].shape[0],3)\n",
    "# y = apartments['Price'].values.reshape(apartments['Price'].shape[0],1)\n",
    "# md_r.fit(X=x, y=y)\n",
    "# print(\"Slope:\",md_r.coef_)\n",
    "# print(\"Intercept:\",md_r.intercept_)\n",
    "# print(\"R2:\",md_r.score(x,y))"
   ]
  },
  {
   "cell_type": "code",
   "execution_count": null,
   "metadata": {},
   "outputs": [],
   "source": [
    "# df = apartments[['Price','Refurbished']]\n",
    "# df.Refurbished = df.Refurbished.astype(int)\n",
    "# df.plot.scatter(x='Refurbished',y='Price', s=30)"
   ]
  },
  {
   "cell_type": "code",
   "execution_count": null,
   "metadata": {},
   "outputs": [],
   "source": [
    "# df = apartments[['Rooms','Square-meter','Price','Area']]\n",
    "# X = df[['Square-meter','Price']]\n",
    "# y = df.Area \n",
    "# g = sns.scatterplot(X.iloc[:, 0], X.iloc[:, 1], hue=y,  marker=\"o\" ,s=30)\n",
    "# g.set(xscale='log', yscale='log')\n",
    "# x_min, x_max = X.iloc[:, 0].min() - 1, X.iloc[:, 1].max() + 1\n",
    "# y_min, y_max = X.iloc[:, 0].min() - 1, X.iloc[:, 1].max() + 1"
   ]
  },
  {
   "cell_type": "code",
   "execution_count": null,
   "metadata": {},
   "outputs": [],
   "source": [
    "# n_neighbors = 10\n",
    "\n",
    "# # we create an instance of Neighbours Classifier and fit the data.\n",
    "# clf = neighbors.KNeighborsClassifier(n_neighbors, weights='distance')\n",
    "# clf.fit(X, apartments['Area'])\n",
    "# x_min, x_max = X.iloc[:, 0].min() - 1, X.iloc[:, 0].max() + 1\n",
    "# y_min, y_max = X.iloc[:, 1].min() - 1, X.iloc[:, 1].max() + 1\n",
    "\n",
    "# print(f'x: {x_min} , {x_max}') # x: 17 , 341\n",
    "# print(f'y: {y_min} , {y_max}') # y: 1299.0 , 70001.0,  Most of the vvalues are beteen 1  - 20,000\n",
    "\n",
    "# # predict class using data and kNN classifier\n",
    "# size  = range(x_min,x_max)\n",
    "# y_min,y_max = 1000,20000\n",
    "# y_jump = round((y_max-y_min) / len(x))\n",
    "# print(f'y_jump={y_jump}') # y_jump=40\n",
    "# price = list(range(y_min,y_max,y_jump))\n",
    "# print(f'size len = {len(size)}')\n",
    "# print(f'price len = {len(price)}')\n",
    "# n=320\n",
    "# xx, yy = np.meshgrid(size[:n],price[:n])\n",
    "# i = np.c_[xx.ravel(), yy.ravel()]\n",
    "# predict_vector = clf.predict(i)\n",
    "# i, predict_vector"
   ]
  },
  {
   "cell_type": "code",
   "execution_count": null,
   "metadata": {},
   "outputs": [],
   "source": [
    "# plt.hist(predict_vector)"
   ]
  },
  {
   "cell_type": "code",
   "execution_count": null,
   "metadata": {},
   "outputs": [],
   "source": [
    "# print(set(predict_vector))\n",
    "# area_to_number = {v:index for  index,v in enumerate(list(set(predict_vector)))}\n",
    "# Z1 = [area_to_number[area] for area in predict_vector]\n",
    "# print(set(Z1))\n",
    "# Z = np.asarray(Z1[:n*n]).reshape(n,n)\n",
    "# Z"
   ]
  },
  {
   "cell_type": "code",
   "execution_count": null,
   "metadata": {},
   "outputs": [],
   "source": [
    "# # Create color maps\n",
    "# plt.title(f\"3-Class classification (k = {n_neighbors})\")\n",
    "# h = plt.pcolormesh(xx,yy,Z)\n",
    "# plt.colorbar(h)\n",
    "# plt.show()"
   ]
  }
 ],
 "metadata": {
  "language_info": {
   "codemirror_mode": {
    "name": "ipython",
    "version": 3
   },
   "file_extension": ".py",
   "mimetype": "text/x-python",
   "name": "python",
   "nbconvert_exporter": "python",
   "pygments_lexer": "ipython3",
   "version": "3.7.6-final"
  },
  "orig_nbformat": 2,
  "kernelspec": {
   "name": "python37664bitdscondaf3480dc8ced84216be85ecc0db4a01f8",
   "display_name": "Python 3.7.6 64-bit ('ds': conda)"
  }
 },
 "nbformat": 4,
 "nbformat_minor": 2
}