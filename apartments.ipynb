{
 "cells": [
  {
   "cell_type": "markdown",
   "metadata": {},
   "source": [
    "# Apartments Analysis\n",
    "\n",
    "In this project, we will analyze Apartments for rent in the city of Tel Aviv.        \n",
    "Our main goals are to try to understand in depth the area of apartment rental in Tel Aviv.   "
   ]
  },
  {
   "cell_type": "markdown",
   "metadata": {},
   "source": [
    "### Introduction and Background\n",
    "Finding an apartment for rent is not a simple task. And it is usually necessary to see a large number of apartments \n",
    "and be prepared for certain compromises before we can make a decision and enter any apartment.  \n",
    "For that, we performed in-depth analysis to understand the field in depth.   \n",
    "Our motivation in choosing a project topic in this area comes from the fact that we find ourselves  \n",
    "spending a lot of time, each day, for finding apartments for rent. \n",
    "\n",
    "### Data acquisition\n",
    "For the purposes of this project, we will use data collected from ads which have been published on the site Yad2.   \n",
    "All the information has been collected using a Web crawler.    \n",
    "\n",
    "\n",
    "### Loading the data  \n",
    "Our data is stored and organized in a csv file.  \n",
    "We'll start reading in the data into pandas dataframes and see some stats.  "
   ]
  },
  {
   "cell_type": "code",
   "execution_count": 91,
   "metadata": {},
   "outputs": [],
   "source": [
    "import pandas as pd"
   ]
  },
  {
   "cell_type": "code",
   "execution_count": 92,
   "metadata": {},
   "outputs": [
    {
     "output_type": "stream",
     "name": "stdout",
     "text": "Apartments dataset has 360 entries with 11 variables.\nthe data features are: \n"
    },
    {
     "output_type": "execute_result",
     "data": {
      "text/plain": "Empty DataFrame\nColumns: [Title, Area, Price, Rooms, Floor, Square-meter, Area-text, Elevator, Air-condition, Refurbished, Furniture]\nIndex: []",
      "text/html": "<div>\n<style scoped>\n    .dataframe tbody tr th:only-of-type {\n        vertical-align: middle;\n    }\n\n    .dataframe tbody tr th {\n        vertical-align: top;\n    }\n\n    .dataframe thead th {\n        text-align: right;\n    }\n</style>\n<table border=\"1\" class=\"dataframe\">\n  <thead>\n    <tr style=\"text-align: right;\">\n      <th></th>\n      <th>Title</th>\n      <th>Area</th>\n      <th>Price</th>\n      <th>Rooms</th>\n      <th>Floor</th>\n      <th>Square-meter</th>\n      <th>Area-text</th>\n      <th>Elevator</th>\n      <th>Air-condition</th>\n      <th>Refurbished</th>\n      <th>Furniture</th>\n    </tr>\n  </thead>\n  <tbody>\n  </tbody>\n</table>\n</div>"
     },
     "metadata": {},
     "execution_count": 92
    }
   ],
   "source": [
    "# Read in the data\n",
    "apartments = pd.read_csv('data/apartments.csv', encoding='ISO-8859-8')\n",
    "\n",
    "#features = ', '.join(apartments.columns.values)\n",
    "\n",
    "print(f'Apartments dataset has {apartments.shape[0]} entries with {apartments.shape[1]} variables.')\n",
    "print(f'the data features are: ')\n",
    "apartments[0:0]"
   ]
  },
  {
   "cell_type": "markdown",
   "metadata": {},
   "source": [
    "### Feature Observation\n",
    "- **title**: the actual apartment address\n",
    "- **area**: we divided the city into areas north-south-east-west\n",
    "- **price**: price of rent per month in ILS\n",
    "- **rooms**: number of rooms in the apartment\n",
    "- **floor**: number of floor of the apartment in the building\n",
    "- **square-meter**: the size of the apartment space in square meters\n",
    "- **elevator/air-condition/refurbished/furniture**: additional parameters that can be exist or not"
   ]
  },
  {
   "cell_type": "markdown",
   "metadata": {},
   "source": [
    "## Data cleaning\n"
   ]
  },
  {
   "cell_type": "markdown",
   "metadata": {},
   "source": [
    "### Handling missing data\n",
    "Some of the values are missing, they anotated as 'לא צוין'"
   ]
  },
  {
   "cell_type": "code",
   "execution_count": 93,
   "metadata": {},
   "outputs": [
    {
     "output_type": "stream",
     "name": "stdout",
     "text": "Now the dataset has 343 entries.\n"
    }
   ],
   "source": [
    "# Remove missing values\n",
    "apartments = apartments[apartments['Price'] != 'לא צוין מחיר']\n",
    "apartments = apartments[apartments['Rooms'] != 'לא צוין']\n",
    "\n",
    "print(f'Now the dataset has {apartments.shape[0]} entries.')"
   ]
  },
  {
   "cell_type": "markdown",
   "metadata": {},
   "source": [
    "### Handling Data types\n",
    "Lets look at the variables type"
   ]
  },
  {
   "cell_type": "code",
   "execution_count": 94,
   "metadata": {},
   "outputs": [
    {
     "output_type": "execute_result",
     "data": {
      "text/plain": "Title            object\nArea             object\nPrice            object\nRooms            object\nFloor            object\nSquare-meter      int64\nArea-text        object\nElevator           bool\nAir-condition      bool\nRefurbished        bool\nFurniture          bool\ndtype: object"
     },
     "metadata": {},
     "execution_count": 94
    }
   ],
   "source": [
    "apartments.dtypes"
   ]
  },
  {
   "cell_type": "markdown",
   "metadata": {},
   "source": [
    "We can see that some of the variables are not in the correct type, such as **Price**, **Rooms**, **Floor** so we will need to convert them."
   ]
  },
  {
   "cell_type": "code",
   "execution_count": 95,
   "metadata": {},
   "outputs": [
    {
     "output_type": "execute_result",
     "data": {
      "text/plain": "Title             object\nArea              object\nPrice            float64\nRooms            float64\nFloor              int32\nSquare-meter       int64\nArea-text         object\nElevator            bool\nAir-condition       bool\nRefurbished         bool\nFurniture           bool\ndtype: object"
     },
     "metadata": {},
     "execution_count": 95
    }
   ],
   "source": [
    "# Convert data types into a valid type\n",
    "apartments['Price'] = apartments['Price'].apply(lambda s: s.replace(',', '').replace('¤', '').replace('₪', '')).astype('float')\n",
    "apartments['Rooms'] = apartments['Rooms'].astype('float')\n",
    "apartments.loc[apartments['Floor'] == 'קרקע', 'Floor'] = 0\n",
    "apartments['Floor'] = apartments['Floor'].astype('int')\n",
    "apartments.dtypes"
   ]
  },
  {
   "cell_type": "code",
   "execution_count": null,
   "metadata": {},
   "outputs": [],
   "source": []
  }
 ],
 "metadata": {
  "language_info": {
   "codemirror_mode": {
    "name": "ipython",
    "version": 3
   },
   "file_extension": ".py",
   "mimetype": "text/x-python",
   "name": "python",
   "nbconvert_exporter": "python",
   "pygments_lexer": "ipython3",
   "version": "3.7.4-final"
  },
  "orig_nbformat": 2,
  "kernelspec": {
   "name": "python37464bitdde81496def449999e09de35d85c2b08",
   "display_name": "Python 3.7.4 64-bit"
  }
 },
 "nbformat": 4,
 "nbformat_minor": 2
}