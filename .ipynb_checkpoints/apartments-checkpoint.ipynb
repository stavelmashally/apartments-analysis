{
 "cells": [
  {
   "cell_type": "markdown",
   "metadata": {},
   "source": [
    "# Apartments Analysis\n",
    "\n",
    "In this project, we will analyze Apartments for rent in the city of Tel Aviv.        \n",
    "Our main goals are to try to understand in depth the area of apartment rental in Tel Aviv.   "
   ]
  },
  {
   "cell_type": "markdown",
   "metadata": {},
   "source": [
    "### Introduction and Background\n",
    "Finding an apartment for rent is not a simple task. And it is usually necessary to see a large number of apartments \n",
    "and be prepared for certain compromises before we can make a decision and enter any apartment.  \n",
    "For that, we performed in-depth analysis to understand the field in depth.   \n",
    "Our motivation in choosing a project topic in this area comes from the fact that we find ourselves  \n",
    "spending a lot of time, each day, for finding apartments for rent. \n",
    "\n",
    "### Data acquisition\n",
    "For the purposes of this project, we will use data collected from ads which have been published on the site Yad2.   \n",
    "All the information has been collected using a Web crawler.    \n",
    "\n",
    "#### We'll start reading in the data into pandas dataframes, and see some stats.  "
   ]
  },
  {
   "cell_type": "code",
   "execution_count": 7,
   "metadata": {},
   "outputs": [],
   "source": [
    "import pandas as pd"
   ]
  },
  {
   "cell_type": "code",
   "execution_count": 13,
   "metadata": {},
   "outputs": [
    {
     "name": "stdout",
     "output_type": "stream",
     "text": [
      "Apartments dataset has 364 data points with 10 variables.\n"
     ]
    }
   ],
   "source": [
    "apartments = pd.read_csv('data/apartments.csv')\n",
    "print(f'Apartments dataset has {apartments.shape[0]} data points with {apartments.shape[1]} variables.')"
   ]
  },
  {
   "cell_type": "code",
   "execution_count": null,
   "metadata": {},
   "outputs": [],
   "source": []
  }
 ],
 "metadata": {
  "kernelspec": {
   "display_name": "Python 3.7.6 64-bit ('ds': conda)",
   "language": "python",
   "name": "python37664bitdscondaf3480dc8ced84216be85ecc0db4a01f8"
  },
  "language_info": {
   "codemirror_mode": {
    "name": "ipython",
    "version": 3
   },
   "file_extension": ".py",
   "mimetype": "text/x-python",
   "name": "python",
   "nbconvert_exporter": "python",
   "pygments_lexer": "ipython3",
   "version": "3.7.6"
  }
 },
 "nbformat": 4,
 "nbformat_minor": 2
}
